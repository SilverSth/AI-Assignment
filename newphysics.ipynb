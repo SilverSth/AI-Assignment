{
 "cells": [
  {
   "cell_type": "code",
   "execution_count": 1,
   "id": "1ae3a150-4a32-4e92-8b96-301af1b9d5fc",
   "metadata": {},
   "outputs": [
    {
     "name": "stdout",
     "output_type": "stream",
     "text": [
      "Requirement already satisfied: rdflib in c:\\programdata\\anaconda3\\lib\\site-packages (7.1.1)\n",
      "Requirement already satisfied: pyparsing<4,>=2.1.0 in c:\\programdata\\anaconda3\\lib\\site-packages (from rdflib) (3.0.9)\n",
      "Requirement already satisfied: isodate<1.0.0,>=0.7.2 in c:\\programdata\\anaconda3\\lib\\site-packages (from rdflib) (0.7.2)\n"
     ]
    }
   ],
   "source": [
    "!pip install rdflib"
   ]
  },
  {
   "cell_type": "markdown",
   "id": "16609b6d-fc85-415c-a9bd-cfaa3a7efc69",
   "metadata": {},
   "source": [
    "### Import python Libraries"
   ]
  },
  {
   "cell_type": "code",
   "execution_count": 2,
   "id": "2c5813f3-0556-4dbc-a878-f9ef7ce27975",
   "metadata": {},
   "outputs": [],
   "source": [
    "import tkinter as tk\n",
    "from tkinter import messagebox, filedialog\n",
    "from rdflib import Graph"
   ]
  },
  {
   "cell_type": "markdown",
   "id": "03ad90ff-0c08-4cca-b3db-231c763568b7",
   "metadata": {},
   "source": [
    "### Load ontology & Display the results using GUI"
   ]
  },
  {
   "cell_type": "code",
   "execution_count": 3,
   "id": "62a87ebd-d769-4c8e-bd26-403c158cf372",
   "metadata": {},
   "outputs": [],
   "source": [
    "class OntologyQueryApp:\n",
    "    def __init__(self, root):\n",
    "        \"\"\"Initialize the main application window and its components\"\"\"\n",
    "        self.root = root\n",
    "        self.root.title(\"Ontology Query Interface\")\n",
    "        self.root.geometry(\"600x400\")\n",
    "        self.root.config(bg=\"lightgreen\")\n",
    "\n",
    "        # Initialize rdflib Graph\n",
    "        self.graph = Graph()\n",
    "\n",
    "        # Load Ontology Button\n",
    "        self.load_button = tk.Button(\n",
    "            root, text=\"Load Ontology\", command=self.load_ontology,\n",
    "            bg=\"lightgreen\", font=(\"Helvetica\", 12)\n",
    "        )\n",
    "        self.load_button.pack(pady=10)\n",
    "\n",
    "        # Query Input Section\n",
    "        self.query_label = tk.Label(\n",
    "            root, text=\"Enter SPARQL Query:\", bg=\"lightgreen\", font=(\"Helvetica\", 10)\n",
    "        )\n",
    "        self.query_label.pack(pady=10)\n",
    "\n",
    "        self.query_text = tk.Text(\n",
    "            root, height=6, width=70, bg=\"lightyellow\", fg=\"black\", font=(\"Helvetica\", 10)\n",
    "        )\n",
    "        self.query_text.pack(pady=10)\n",
    "\n",
    "        # Execute Query Button\n",
    "        self.query_button = tk.Button(\n",
    "            root, text=\"Execute Query\", command=self.execute_query,\n",
    "            bg=\"lightgreen\", font=(\"Helvetica\", 10)\n",
    "        )\n",
    "        self.query_button.pack(pady=10)\n",
    "\n",
    "        # Query Results Section\n",
    "        self.result_label = tk.Label(\n",
    "            root, text=\"Query Results:\", bg=\"lightgreen\", font=(\"Helvetica\", 10)\n",
    "        )\n",
    "        self.result_label.pack(pady=10)\n",
    "\n",
    "        self.result_text = tk.Text(\n",
    "            root, height=10, width=70, bg=\"lightyellow\", fg=\"black\", font=(\"Helvetica\", 10)\n",
    "        )\n",
    "        self.result_text.pack(pady=10)\n",
    "\n",
    "    def load_ontology(self):\n",
    "        \"\"\"Open file dialog to select and load an ontology file\"\"\"\n",
    "        file_path = filedialog.askopenfilename(filetypes=[(\"OWL files\", \"*.owl\")])\n",
    "        if file_path:\n",
    "            try:\n",
    "                # Load the ontology file into the rdflib graph\n",
    "                self.graph.parse(file_path, format=\"xml\")\n",
    "                messagebox.showinfo(\"Success\", f\"Ontology file '{file_path}' loaded successfully!\")\n",
    "            except Exception as e:\n",
    "                messagebox.showerror(\"Error\", f\"Error loading ontology file:\\n{e}\")\n",
    "        else:\n",
    "            messagebox.showwarning(\"No File Selected\", \"Please select an ontology file!\")\n",
    "\n",
    "    def execute_query(self):\n",
    "        \"\"\"Execute SPARQL query and display results\"\"\"\n",
    "        query = self.query_text.get(\"1.0\", \"end-1c\").strip()  # Get the query text\n",
    "        if not query:\n",
    "            messagebox.showwarning(\"Input Error\", \"Please enter a SPARQL query!\")\n",
    "            return\n",
    "\n",
    "        try:\n",
    "            # Execute the SPARQL query on the graph\n",
    "            results = self.graph.query(query)\n",
    "            # Prepare results for display\n",
    "            result_str = \"\\n\".join([str(row) for row in results]) or \"No results found.\"\n",
    "\n",
    "            # Display results in the result text box\n",
    "            self.result_text.delete(\"1.0\", tk.END)\n",
    "            self.result_text.insert(tk.END, result_str)\n",
    "\n",
    "        except Exception as e:\n",
    "            messagebox.showerror(\"Query Error\", f\"Error executing query:\\n{e}\")\n",
    "\n",
    "# Create the main Tkinter window and run the application\n",
    "if __name__ == \"__main__\":\n",
    "    root = tk.Tk()\n",
    "    app = OntologyQueryApp(root)\n",
    "    root.mainloop()\n"
   ]
  },
  {
   "cell_type": "code",
   "execution_count": null,
   "id": "43442482-57ad-41d7-8d17-78ea2abd302e",
   "metadata": {},
   "outputs": [],
   "source": []
  },
  {
   "cell_type": "code",
   "execution_count": null,
   "id": "b87ad1f1-ed66-44d0-85c5-ec9b0cb5b116",
   "metadata": {},
   "outputs": [],
   "source": []
  }
 ],
 "metadata": {
  "kernelspec": {
   "display_name": "Python 3 (ipykernel)",
   "language": "python",
   "name": "python3"
  },
  "language_info": {
   "codemirror_mode": {
    "name": "ipython",
    "version": 3
   },
   "file_extension": ".py",
   "mimetype": "text/x-python",
   "name": "python",
   "nbconvert_exporter": "python",
   "pygments_lexer": "ipython3",
   "version": "3.9.12"
  }
 },
 "nbformat": 4,
 "nbformat_minor": 5
}
